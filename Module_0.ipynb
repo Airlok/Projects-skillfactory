{
 "cells": [
  {
   "cell_type": "code",
   "execution_count": null,
   "id": "practical-tsunami",
   "metadata": {},
   "outputs": [],
   "source": [
    "import numpy as np\n",
    "\n",
    "count = 0 # счетчик попыток\n",
    "number = np.random.randint(1, 101) # это загадаемое компьютером число\n",
    "print(\"Загадано число от 1 до 100\")\n",
    "min = 0\n",
    "max = 100\n",
    "while True: # бесконечный цикл\n",
    "    predict = int(input())# предполагаемое число\n",
    "    count += 1 # плюсуем попытку\n",
    "    if number == predict: # выход из цикла, если угадали\n",
    "        break\n",
    "    elif number > predict:\n",
    "        min = predict\n",
    "        print(f\"Угадываемое число больше {predict}\")\n",
    "        print(f'Алгоритм бинарного поиска рекомендует вам число:{round((max + min) / 2)}')\n",
    "    elif number < predict:\n",
    "        max = predict\n",
    "        print(f\"Угадываемое число меньше {predict}\")\n",
    "        print(f'Алгоритм бинарного поиска рекомендует вам число:{round((max+min)/2)}')\n",
    "\n",
    "\n",
    "print(f\"Вы угадали число {number} за {count} попыток.\")"
   ]
  }
 ],
 "metadata": {
  "kernelspec": {
   "display_name": "Python 3",
   "language": "python",
   "name": "python3"
  },
  "language_info": {
   "codemirror_mode": {
    "name": "ipython",
    "version": 3
   },
   "file_extension": ".py",
   "mimetype": "text/x-python",
   "name": "python",
   "nbconvert_exporter": "python",
   "pygments_lexer": "ipython3",
   "version": "3.7.9"
  }
 },
 "nbformat": 4,
 "nbformat_minor": 5
}
